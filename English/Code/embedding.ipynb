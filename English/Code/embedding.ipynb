{
 "cells": [
  {
   "cell_type": "code",
   "execution_count": 82,
   "id": "9f34cf94-d958-4d92-8f81-5d800da0eaf0",
   "metadata": {},
   "outputs": [
    {
     "name": "stdout",
     "output_type": "stream",
     "text": [
      "총 14개의 문제를 로드했습니다.\n"
     ]
    }
   ],
   "source": [
    "import json\n",
    "\n",
    "# JSON 파일 로드\n",
    "file_path = \"../데이터/highschool_english_dataset.json\"\n",
    "\n",
    "with open(file_path, \"r\", encoding=\"utf-8\") as f:\n",
    "    data = json.load(f)\n",
    "\n",
    "# 질문을 리스트로 저장\n",
    "questions = []\n",
    "for key, value in data.items():\n",
    "    if \"questions\" in value and \"cleaned_text\" in value[\"questions\"]:\n",
    "        questions.append(value[\"questions\"][\"cleaned_text\"])\n",
    "\n",
    "print(f\"총 {len(questions)}개의 문제를 로드했습니다.\")"
   ]
  },
  {
   "cell_type": "markdown",
   "id": "e9b9364d-194d-42b2-a750-1124892912e5",
   "metadata": {
    "jp-MarkdownHeadingCollapsed": true
   },
   "source": [
    "#  OpenAI API를 사용해 질문을 벡터로 변환"
   ]
  },
  {
   "cell_type": "code",
   "execution_count": 83,
   "id": "fd737f62-6ceb-489a-8035-7c4d48b7a35b",
   "metadata": {},
   "outputs": [
    {
     "name": "stdout",
     "output_type": "stream",
     "text": [
      "총 14개의 질문을 벡터로 변환 완료!\n"
     ]
    }
   ],
   "source": [
    "import openai\n",
    "\n",
    "# OpenAI 임베딩 함수 (최신 API 적용)\n",
    "def get_embedding(text):\n",
    "    response = openai.embeddings.create(\n",
    "        input=text,\n",
    "        model=\"text-embedding-ada-002\"\n",
    "    )\n",
    "    return response.data[0].embedding  # 최신 API 방식 적용\n",
    "\n",
    "# 모든 질문을 임베딩 변환\n",
    "question_embeddings = [get_embedding(q) for q in questions]\n",
    "\n",
    "print(f\"총 {len(question_embeddings)}개의 질문을 벡터로 변환 완료!\")"
   ]
  },
  {
   "cell_type": "markdown",
   "id": "f7168f62-11e9-4327-a43c-183440c7db88",
   "metadata": {
    "jp-MarkdownHeadingCollapsed": true
   },
   "source": [
    "# FAISS 데이터베이스 생성"
   ]
  },
  {
   "cell_type": "code",
   "execution_count": 84,
   "id": "1f15b119-ba5d-4ddf-8945-6b44ec71add8",
   "metadata": {},
   "outputs": [
    {
     "name": "stdout",
     "output_type": "stream",
     "text": [
      "벡터 데이터베이스에 14개의 벡터 저장 완료!\n"
     ]
    }
   ],
   "source": [
    "import faiss\n",
    "import numpy as np\n",
    "\n",
    "# 벡터 차원 설정 (text-embedding-ada-002는 1536차원)\n",
    "embedding_dim = 1536\n",
    "\n",
    "# FAISS 인덱스 생성 (L2 거리 기반)\n",
    "index = faiss.IndexFlatL2(embedding_dim)\n",
    "\n",
    "# 임베딩 데이터를 numpy 배열로 변환\n",
    "question_vectors = np.array(question_embeddings).astype(\"float32\")\n",
    "\n",
    "# FAISS 데이터베이스에 추가\n",
    "index.add(question_vectors)\n",
    "\n",
    "print(f\"벡터 데이터베이스에 {index.ntotal}개의 벡터 저장 완료!\")"
   ]
  },
  {
   "cell_type": "markdown",
   "id": "d968c719-0668-4687-903a-1550c656ca3f",
   "metadata": {
    "jp-MarkdownHeadingCollapsed": true
   },
   "source": [
    "# FAISS를 이용한 유사 질문 검색"
   ]
  },
  {
   "cell_type": "code",
   "execution_count": 85,
   "id": "9ef89619-3f11-4524-832c-9eeee807b6d0",
   "metadata": {
    "scrolled": true
   },
   "outputs": [
    {
     "name": "stdout",
     "output_type": "stream",
     "text": [
      "\n",
      "[가장 유사한 질문들]\n",
      "1. 영 제 3 교시 [1~3] 밑줄 친 부분의 뜻으로 가장 적절한 것을 고르시오. 1. David put a lot of effort into the exam. ① 노력 ② 의미 ③ 조언 ④ 좌절 2. Many countries suffer from a lack of water. ① 절약하다 ② 이용하다 ③ 낭비하다 ④ 고통받다 3. A: Excuse me, can I have soup instead of salad? B: Sure. I will bring it in a minute. ① ～로써 ② ～대신에 ③ ～덕분에 ④ ～와 함께 4. 두 단어의 의미 관계가 나머지 셋과 다른 것은? ① joy－sadness ② furniture－sofa ③ subject－science ④ animal－chimpanzee 5. 다음 광고문에서 언급되지 않은 것은? Moonlight Tour of the Beautiful Palace! Opening: Tuesday to Friday 7 p.m.－9 p.m. Reservation: Book on our website one day before (www.moonlight.co.kr) Entrance Fee: Free for everyone ① 운영 시간 ② 예약 방법 ③ 준비물 ④ 입장료 [6~8] 빈칸에 공통으로 들어갈 말로 가장 적절한 것을 고르시오. 6. ◦Can you explain to use the copy machine? ◦I can’t understand he solved the problem. ① what ② that ③ who ④ how 7. ◦The flood had caused serious to the village. ◦Don’t the surface of the table with the pencil. ① damage ② gesture ③ comment ④ concern 8. ◦All the people focused her performance. ◦This island’s economy depends tourism. ① as ② on ③ at ④ by 9. 대화가 이루어지는 장소로 가장 적절한 것은? A: Excuse me, I’d like to buy two tickets to Seoul, please. What time does the next train depart? B: Oh, the next train leaves in ten minutes. If you want to take that one, you should hurry. ① 수영장 ② 미술관 ③ 도서관 ④ 기차역 고졸 (영 어 고졸 10. 밑줄 친 표현의 의미로 가장 적절한 것은? A: I was surprised by the inside of the house. B: Why were you surprised? A: When I saw the dirty garden, I thought the inside would be dirty, too. B: You should not judge a book by its cover. ① 정원을 더럽히다 ② 책 표지에 낙서하다 ③ 겉모습으로 판단하다 ④ 지저분한 장소를 피하다 11. 대화에서 알 수 있는 B의 심정으로 가장 적절한 것은? A: Yubin, I heard you’re taking a family trip to London this summer. B: Yes, I’m very excited to see Big Ben. A: That sounds great. Show me the pictures when you get back. B: Sure. I can’t wait for the trip! ① 후회하다 ② 실망하다 ③ 망설이다 ④ 기대하다 [12~13] 대화의 빈칸에 들어갈 말로 가장 적절한 것을 고르시오. 12. A: Where are you going? B: I am going to visit my grandmother. A: B: I will help her to make kimchi. ① What will you do there? ② How far is it from here? ③ When will you arrive there? ④ Which is the best way to get there? 13. A: Can you give me some advice for skin trouble? B: ① Oh, you really did a good job. ② That’s a good idea. I will use it. ③ Sure. You can try using oil-free lotion. ④ Great! I’m really happy to get your tips. 14. Andy Warhol에 관한 다음 글에서 언급되지 않은 것은? Andy Warhol was born in Pittsburgh, Pennsylvania. He moved to New York in 1949, where he started his career as a commercial artist. In the early 1960s, he began to paint common things like cans of soup. His works inspired many contemporary* artists. *contemporary: 동시대의 ① New York에서 태어났다. ② 상업 예술가로 활동했다. ③ 평범한 대상을 그림의 소재로 사용했다. ④ 그의 작품은 동시대의 예술가들에게 영향을 주었다. ) 2－1 15. 밑줄 친 It이 가리키는 것으로 가장 적절한 것은? It is one of the most popular team sports in the world. It is played on a field, and two teams of eleven players try to kick a round ball into a goal without using their hands or arms. ① handball ② baseball ③ tennis ④ soccer 16. 주어진 말에 이어질 두 사람의 대화를 <보기>에서 찾아 순서대로 가장 적절하게 배열한 것은? Good afternoon. May I take your order? <보기> (A) Thanks. I will take that. (B) Well, what would you recommend? (C) How about the tuna sandwich? It is popular here. ① (A)－(B)－(C) ② (B)－(A)－(C) ③ (B)－(C)－(A) ④ (C)－(B)－(A) 17. 영화 관람에 관한 다음 안내 방송에서 언급되지 않은 것은? Before the movie begins, we have some announcements to give you. Please make sure your phone is on silent or turn it off. Also, keep quiet and remain in your seat until the end. ① 정숙하게 관람하기 ② 자리 이동하지 않기 ③ 휴대 전화 전원 끄기 ④ 앞좌석 발로 차지 않기 18. 다음 글의 바로 뒤에 이어질 내용으로 가장 적절한 것은? A cold is one of the most common illnesses. If you catch a cold, you usually have a runny nose, and sometimes a fever. The best way to prevent a cold is keeping your body strong and healthy. Here are some tips to protect yourself against it. ① 감기 예방법 ② 감기의 증상 ③ 알레르기의 종류 ④ 겨울철 질병의 유형 19. 다음 글의 빈칸에 들어갈 말로 가장 적절한 것은? Nowadays, glaciers* are melting and sea levels are rising, threatening environments. These are known to be results of global warming. Global warming is the rise of world temperatures caused by the increased production of carbon dioxide** around the world. It is clear that we are facing noticeable to the Earth’s climate. *glaciers: 빙하 **carbon dioxide: 이산화탄소 ① changes ② rewards ③ comforts ④ achievements 고졸 (영 20. 다음 글의 목적으로 가장 적절한 것은? There will be a DIY (Do-It-Yourself) Fashion Program in our city center. It can give you the chance to learn from fashion designers. You will design your own clothes and do the needlework. ① 디자이너 모집 ② 프로그램 안내 ③ DIY 제품 소개 ④ 작품 발표회 홍보 21. 글의 흐름으로 보아, 다음 문장이 들어가기에 가장 적절한 곳은? The jacket is not the color that I ordered. I bought a new jacket from your website. ( ① ) But, I found something wrong with the color. ( ② ) Also, this jacket is a little too big for me. ( ③ ) I would like to exchange it. ( ④ ) [22~23] 다음 글을 읽고 물음에 답하시오. Ice cream is considered to be a modern food, but ancient people also ate a kind of ice cream. For example, more than 2,000 years ago, people in China would create a dish of rice mixed with frozen milk during wintertime. Likewise, it is said that Alexander the Great eating snow flavored with honey. Isn’t it interesting that ancient people could find pleasure in ice cream without the freezing technology we have today? 22. 윗글의 빈칸에 들어갈 말로 가장 적절한 것은? ① avoided ② enjoyed ③ regretted ④ criticized 23. 윗글의 제목으로 가장 적절한 것은? ① Types of Modern Foods ② The Diets for Ancient Kings ③ Ice Cream in Ancient Times ④ The Variety of Modern Ice Cream [24~25] 다음 글을 읽고 물음에 답하시오. One of the common advertising techniques is to repeat the product name. Repeating the product name may increase sales. For example, imagine that you go shopping for shampoo but you haven’t decided which to buy. The first shampoo that comes to your mind is the one with the name you have recently heard a lot. , repeating the name can lead to consumers buying the product. 24. 윗글의 빈칸에 들어갈 말로 가장 적절한 것은? ① However ② Therefore ③ In contrast ④ On the other hand 25. 윗글의 주제로 가장 적절한 것은? ① 광고비 상승의 문제점 ② 지나친 샴푸 사용을 줄이는 방법 ③ 제품의 이름을 반복하는 광고 효과 ④ 판매 촉진을 위한 제품의 품질 보장 제도 ) 2－2 (거리: 0.4893)\n",
      "2. 2022년도 제1회 고등 영 제 3 교시 [1～3] 다음 밑줄 친 부분의 뜻으로 가장 적절한 것을 고르시오. 1. For children, it is important to encourage good behavior. ① 행동 ② 규칙 ③ 감정 ④ 신념 2. She had to put off the trip because of heavy rain. ① 계획하다 ② 연기하다 ③ 기록하다 ④ 시작하다 3. Many online lessons are free of charge. Besides, you can watch them anytime and anywhere. ① 마침내 ② 게다가 ③ 그러나 ④ 예를 들면 4. 다음 밑줄 친 두 단어의 의미 관계와 다른 것은? While some people say that a glass is half full, others say that it’s half empty. ① high － low ② hot － cold ③ tiny － small ④ fast － slow 5. 다음 포스터에서 언급되지 않은 것은? Happy Earth Day Event When: April 22, 2022 Where: Community Center What to do: ◦Exchange used things ◦Make 100% natural shampoo ① 참가 자격 ② 행사 날짜 ③ 행사 장소 ④ 행사 내용 [6～8] 다음 빈칸에 공통으로 들어갈 말로 가장 적절한 것을 고르시오. 6. ◦When you the train, make sure you take all your belongings. ◦Please the book on the table after reading it. ① open ② learn ③ leave ④ believe 7. ◦Minsu, are you going to do this weekend? ◦No one knows exactly happened. ① what ② that ③ who ④ if 8. ◦Dad’s heart is filled love for me. ◦Alice was satisfied her performance. ① at ② in ③ for ④ with 고졸 (영 고졸 교 졸업학력 검정고시 어 9. 다음 대화에서 밑줄 친 표현의 의미로 가장 적절한 것은? A: What are you doing, Junho? B: I’m trying to solve this math problem, but it’s too difficult for me. A: Let’s try to figure it out together. B: That’s a good idea. Two heads are better than one. ① 수고 없이 얻는 것은 없다. ② 사공이 많으면 배가 산으로 간다. ③ 겉모습만으로 사람을 판단해서는 안 된다. ④ 혼자보다 두 명이 함께 생각하는 것이 낫다. 10. 다음 대화에서 알 수 있는 B의 심정으로 가장 적절한 것은? A: Did you get the results for the English speech contest? B: Yeah, I just got them. A: So, how did you do? B: I won first prize. It’s the happiest day of my life. ① 행복 ② 실망 ③ 분노 ④ 불안 11. 다음 대화가 이루어지는 장소로 가장 적절한 것은? A: Good morning. How may I help you? B: Hi, I’d like to open a bank account. A: All right. Please fill out this form. B: Thanks. I’ll do it now. ① 은행 ② 경찰서 ③ 미용실 ④ 체육관 12. 다음 글에서 밑줄 친 It이 가리키는 것으로 가장 적절한 것은? One day, Michael saw an advertisement for a reporter in the local newspaper. It was a job he’d always dreamed of. So he made up his mind to apply for the job. ① actor ② teacher ③ reporter ④ designer [13～14] 다음 대화의 빈칸에 들어갈 말로 가장 적절한 것을 고르시오. 13. A: ? B: I’m going to teach Korean to foreigners. A: Great. Remember you should volunteer with a good heart. B: I’ll keep that in mind. ① When is your birthday ② What did you do last Friday ③ What do you think about Korean food ④ What kind of volunteer work are you going to do 14. A: Have you decided which club you’re going to join this year? B: . ① I left Korea for Canada ② I went to see a doctor yesterday ③ I’ve decided to join the dance club ④ I had spaghetti for dinner last night ) 2－1 15. 다음 대화의 주제로 가장 적절한 것은? A: Doctor, my eyes are tired from working on the computer all day. What can I do to look after my eyes? B: Make sure you have enough sleep to rest your eyes. A: Okay. Then what else can you recommend? B: Eat fruits and vegetables that have lots of vitamins. ① 비타민의 부작용 ② 눈 건강을 돌보는 방법 ③ 수면 부족의 원인 ④ 시력 회복에 도움 되는 운동 16. 다음 글을 쓴 목적으로 가장 적절한 것은? This is an announcement from the management office. As you were informed yesterday, the electricity will be cut this afternoon from 1 p.m. to 2 p.m. We’re sorry for any inconvenience. Thank you for your understanding. ① 공지하려고 ② 불평하려고 ③ 거절하려고 ④ 문의하려고 17. 다음 박물관에 대한 안내문의 내용과 일치하지 않는 것은? Shakespeare Museum Hours ∙Open daily: 9:00a.m.-6:00p.m. Admission ∙Adults: $12 ∙Students and children: $8 ∙10% discount for groups of ten or more Photography ∙Visitors can take photographs. ① 오전 9시부터 오후 6시까지 개방한다. ② 어른은 입장료가 12달러이다. ③ 10명 이상의 단체는 입장료가 10% 할인된다. ④ 모든 사진 촬영은 금지된다. 18. 다음 2022 Science Presentation Contest에 대한 설명과 일치하지 않는 것은? The 2022 Science Presentation Contest will be held on May 20, 2022. The topic is global warming. Contestants can participate in the contest only as individuals. Presentations should not be longer than 10 minutes. For more information, see Mr. Lee at the teachers’ office. ① 5월 20일에 개최된다. ② 발표 주제는 지구 온난화이다. ③ 그룹 참가가 가능하다. ④ 발표 시간은 10분을 넘지 않아야 한다. 19. 다음 글의 주제로 가장 적절한 것은? I’d like to tell you about appropriate actions to take in emergency situations. First, when there is a fire, use the stairs instead of taking the elevator. Second, in the case of an earthquake, go to an open area and stay away from tall buildings because they may fall on you. ① 지진 발생 원인 ② 에너지 절약의 필요성 ③ 환경 보호 실천 방안 ④ 비상사태 발생 시 대처 방법 고졸 (영 [20～21] 다음 글의 빈칸에 들어갈 말로 가장 적절한 것을 고르시오. 20. These days, many people make reservations at restaurants and never show up. Here are some tips for restaurants to reduce no-show customers. First, ask for a deposit. If the customers don’t show up, they’ll lose their money. Second, call the customer the day before to the reservation. ① cook ② forget ③ confirm ④ imagine 21. Weather forecasters the amount of rain, wind speeds, and paths of storms. In order to do so, they observe the weather conditions and use their knowledge of weather patterns. Based on current evidence and past experience, they decide what the weather will be like. ① ignore ② predict ③ violate ④ negotiate 22. 글의 흐름으로 보아 다음 문장이 들어가기에 가장 적절한 곳은? To overcome this problem, soap can be made by volunteer groups and donated to the countries that need it. ( ① ) Washing your hands with soap helps prevent the spread of disease. ( ② ) In fact, in West and Central Africa alone, washing hands with soap could save about half a million lives each year. ( ③ ) However, the problem is that soap is expensive in this region. ( ④ ) This way, we can help save more lives. 23. 다음 글의 바로 뒤에 이어질 내용으로 가장 적절한 것은? In the future, many countries will have the problem of aging populations. We will have more and more old people. This means jobs related to the aging population will be in demand. So when you’re thinking of a job, you should consider this change. Now, I’ll recommend some job choices for a time of aging populations. ① 노령화와 기술 발전 ② 성인병을 관리하는 방법 ③ 노화 예방 운동법 소개 ④ 노령화시대를위한직업추천 [24～25] 다음 글을 읽고 물음에 답하시오. Do you know flowers provide us with many health benefits? For example, the smell of roses can help stress levels. Another example is lavender. Lavender is known to be helpful if you have trouble sleeping. These are just two examples of how flowers help with our health. 24. 윗글의 빈칸에 들어갈 말로 가장 적절한 것은? ① insist ② reduce ③ trust ④ admire 25. 윗글의 주제로 가장 적절한 것은? ① 고혈압에 좋은 식품 ② 충분한 수면의 필요성 ③ 꽃이 건강에 주는 이점 ④ 아름다운 꽃을 고르는 방법 ) 2－2 (거리: 0.5215)\n",
      "3. 2022년도 제2회 고등 영 제 3 교시 [1～3] 다음 밑줄 친 부분의 뜻으로 가장 적절한 것을 고르시오. 1. To speak English well, you need to have confidence. ① 논리력 ② 자신감 ③ 의구심 ④ 창의력 2. The country had to deal with its food shortage problems. ① 생산하다 ② 연기하다 ③ 처리하다 ④ 확대하다 3. Sunlight comes in through the windows and, as a result, the house becomes warm. ① 그 결과 ② 사실은 ③ 예를 들면 ④ 불행하게도 4. 다음 밑줄 친 두 단어의 의미 관계와 다른 것은? Patience is bitter, but its fruit is sweet. ① new－old ② clean－dirty ③ fine－good ④ easy－difficult 5. 다음 축제 안내문에서 언급되지 않은 것은? Gimchi Festival Place: Gimchi Museum Events: - Learning to make gimchi - Tasting various gimchi Entrance Fee: 5,000 won Come and taste traditional Korean food! ① 날짜 ② 장소 ③ 행사 내용 ④ 입장료 [6～8] 다음 빈칸에 공통으로 들어갈 말로 가장 적절한 것을 고르시오. 6. ◦Let’s in front of the restaurant at 2 o’clock. ◦The hotel manager did his best to guests’ needs. ① dive ② meet ③ wear ④ happen 7. ◦Jim, are you going to come home? ◦Listening to music can be helpful you feel bad. ① how ② who ③ what ④ when 8. ◦Welcome. What can I do you, today? ◦I’ve spent almost an hour waiting the bus. ① up ② for ③ out ④ with 고졸 (영 고졸 교 졸업학력 검정고시 어 9. 다음 대화에서 밑줄 친 표현의 의미로 가장 적절한 것은? A: I want to do something to help children in need. B: That’s great. Do you have any ideas? A: I will sell my old clothes and use the money for the children. But it’s not going to be easy. B: Don’t worry. A journey of a thousand miles starts with a single step. ① 모든 일에는 원인이 있다. ② 몸이 건강해야 마음도 건강하다. ③ 친구를 보면 그 사람을 알 수 있다. ④ 어려운 일도 일단 시작해야 이룰 수 있다. 10. 다음 대화에서 알 수 있는 B의 심정으로 가장 적절한 것은? A: Is this your first time to do bungee jumping? B: Yes, it is. And I’m really nervous. A: Bungee jumping is perfectly safe. You’ll be fine. B: That’s what I’ve heard, but I’m still not sure if I want to do it. ① 만족 ② 불안 ③ 실망 ④ 행복 11. 다음 대화가 이루어지는 장소로 가장 적절한 것은? A: Hello, I’m looking for a dinner table for my house. B: Come this way, please. What type would you like? A: I’d like a round one. B: Okay. I’ll show you two different models. ① 세탁소 ② 가구점 ③ 도서관 ④ 체육관 12. 다음 글에서 밑줄 친 It(it)이 가리키는 것으로 가장 적절한 것은? A donation is usually done for kind and good-hearted purposes. It can take many different forms. For example, it may be money, food or medical care given to people suffering from natural disasters. ① donation ② nature ③ people ④ suffering [13～14] 다음 대화의 빈칸에 들어갈 말로 가장 적절한 것을 고르시오. 13. A: Mary’s birthday is coming. ? B: Good idea. What about giving her a phone case? A: She just got a new one. How about a coffee mug? B: Perfect! She likes to drink coffee. ① What is it for ② Where did you get it ③ Why don’t we buy her a gift ④ What do you usually do after school 14. A: What do you do for a living? B: . ① I prefer winter to summer ② That wasn’t what I wanted ③ I teach high school students ④ It’ll take an hour to get to the beach ) 2－1 15. 다음 대화의 주제로 가장 적절한 것은? A: I don’t know what career I’d like to have in the future. B: Why don’t you get experience in different areas? A: Hmm... how can I do that? B: How about participating in job experience programs? I’m sure it will help. ① 자원 개발의 필요성 ② 진로 선택을 위한 조언 ③ 자존감을 높이는 방법 ④ 자원봉사 활동의 어려움 16. 다음 글을 쓴 목적으로 가장 적절한 것은? We would like to ask you to put trash in the trash cans in the park. We are having difficulty keeping the park clean because of the careless behavior of some visitors. We need your cooperation. Thank you. ① 요청하려고 ② 사과하려고 ③ 거절하려고 ④ 칭찬하려고 17. 다음 캠프 안내문의 내용과 일치하지 않는 것은? -Fun and safe sports programs for children aged 7-12 -From August 1sttoAugust 7th -What you will do: Badminton, Basketball, Soccer, Swimming *Every child should bring a swim suit and lunch each day. ① 7세부터 12세까지 어린이들을 대상으로 한다. ② 기간은 8월 1일부터 8월 7일까지이다. ③ 네 가지 스포츠 활동을 할 수 있다. ④ 매일 점심이 제공된다. 18. 다음 학교 신문 기자 모집에 대한 설명과 일치하지 않는 것은? We’re looking for reporters for our school newspaper. If you’re interested, please submit three articles about school life. Each article should be more than 500 words. Our student reporters will evaluate your articles. The deadline is September 5th. ① 학교생활에 관한 기사를 세 편 제출해야 한다. ② 각 기사는 500단어 이상이어야 한다. ③ 담당 교사가 기사를 평가한다. ④ 마감일은 9월 5일이다. 19. 다음 글의 주제로 가장 적절한 것은? Gestures can have different meanings in different countries. For example, the OK sign means “okay” or “all right” in many countries. The same gesture, however, means “zero” in France. French people use it when they want to say there is nothing. ① 세계의 음식 문화 ② 예술의 교육적 효과 ③ 다문화 사회의 특징 ④ 국가별 제스처의 의미 차이 고졸 (영 [20～21] 다음 글의 빈칸에 들어갈 말로 가장 적절한 것을 고르시오. 20. Many power plants produce energy by burning fossil fuels, such as coal or gas. This causes air pollution and influences the . Therefore, try to use less energy by choosing energy-efficient products. It can help save the earth. ① environment ② material ③ product ④ weight 21. The Internet makes our lives more convenient. We can pay bills and shop on the Internet. However, personal information can be easily stolen online. There are ways to your information. First, set a strong password. Second, never click on unknown links. ① cancel ② destroy ③ protect ④ refund 22. 글의 흐름으로 보아 다음 문장이 들어가기에 가장 적절한 곳은? But nowadays maps are more accurate because they are made from photographs. ( ① ) Thousands of years ago, people made maps when they went to new places. ( ② ) They drew maps on the ground or on the walls of caves, which often had incorrect information. ( ③ ) These photographs are taken from airplanes or satellites. ( ④ ) 23. 다음 글의 바로 뒤에 이어질 내용으로 가장 적절한 것은? Sometimes we hurt others’ feelings, even if we don’t mean to. When that happens, we need to apologize. Then, how do we properly apologize? Here are three things you should consider when you say that you are sorry. ① 규칙 준수의 중요성 ② 대화를 시작하는 방법 ③ 효과적인 암기 전략의 종류 ④ 사과할 때 고려해야 할 것들 [24～25] 다음 글을 읽고 물음에 답하시오. Many people have trouble falling asleep, thus not getting enough sleep. It can have effects on health like high blood pressure. You can prevent sleeping problems if you follow these rules. First, do not have drinks with caffeine at night. Second, try not to use your smartphone before going to bed. These will help you go to sleep easily. 24. 윗글의 빈칸에 들어갈 말로 가장 적절한 것은? ① harmful ② helpful ③ positive ④ calming 25. 윗글의 주제로 가장 적절한 것은? ① 스마트폰의 변천사 ② 운동 부족의 위험성 ③ 카페인 중독의 심각성 ④ 수면 문제를 예방하는 방법 ) 2－2 (거리: 0.5317)\n"
     ]
    }
   ],
   "source": [
    "def search_similar_questions(query, top_k=3):\n",
    "    # 입력 질문을 벡터로 변환\n",
    "    query_vector = np.array(get_embedding(query)).astype(\"float32\").reshape(1, -1)\n",
    "\n",
    "    # 가장 가까운 질문 검색\n",
    "    distances, indices = index.search(query_vector, top_k)\n",
    "\n",
    "    # 결과 출력\n",
    "    print(\"\\n[가장 유사한 질문들]\")\n",
    "    for i in range(top_k):\n",
    "        idx = indices[0][i]\n",
    "        print(f\"{i+1}. {questions[idx]} (거리: {distances[0][i]:.4f})\")\n",
    "\n",
    "# 예제 검색 실행\n",
    "user_query = \"Many countries suffer from a lack of water.\"\n",
    "search_similar_questions(user_query)"
   ]
  },
  {
   "cell_type": "markdown",
   "id": "144411ba-14af-4c78-8f2b-352dbc3da718",
   "metadata": {},
   "source": [
    "# 임베딩 벡터 직접 확인하기"
   ]
  },
  {
   "cell_type": "code",
   "execution_count": 89,
   "id": "06525a8b-6080-41e3-bf8f-dfea1904d7db",
   "metadata": {},
   "outputs": [
    {
     "name": "stdout",
     "output_type": "stream",
     "text": [
      "임베딩 벡터 (앞 10개 값): [-0.011448552832007408, -0.00758728664368391, 0.02577783912420273, -0.014538918621838093, -0.021679893136024475, 0.03180979937314987, -0.0036110614892095327, -0.005626223050057888, -0.02387087419629097, -0.008067408576607704]\n",
      "벡터 차원 수: 1536\n"
     ]
    }
   ],
   "source": [
    "# 첫 번째 질문의 임베딩 벡터 확인\n",
    "print(f\"임베딩 벡터 (앞 10개 값): {question_embeddings[0][:10]}\")  # 일부만 출력\n",
    "print(f\"벡터 차원 수: {len(question_embeddings[0])}\")  # 1536인지 확인"
   ]
  },
  {
   "cell_type": "markdown",
   "id": "565a5bb1-f9e7-4b26-ab83-3cd4179b4b24",
   "metadata": {},
   "source": [
    "# FAISS 벡터 데이터베이스에 저장된 벡터 확인"
   ]
  },
  {
   "cell_type": "code",
   "execution_count": 90,
   "id": "2b3322c5-19df-4e55-8031-b8fc33db73c9",
   "metadata": {},
   "outputs": [
    {
     "name": "stdout",
     "output_type": "stream",
     "text": [
      "FAISS에 저장된 첫 번째 벡터 (앞 10개 값): [-0.01144855 -0.00758729  0.02577784 -0.01453892 -0.02167989  0.0318098\n",
      " -0.00361106 -0.00562622 -0.02387087 -0.00806741]\n",
      "FAISS 벡터 차원 수: 1536\n"
     ]
    }
   ],
   "source": [
    "# FAISS 데이터베이스에 저장된 첫 번째 벡터 가져오기\n",
    "faiss_vector = np.zeros((1, 1536), dtype=\"float32\")\n",
    "index.reconstruct(0, faiss_vector[0])\n",
    "\n",
    "print(f\"FAISS에 저장된 첫 번째 벡터 (앞 10개 값): {faiss_vector[0][:10]}\")\n",
    "print(f\"FAISS 벡터 차원 수: {len(faiss_vector[0])}\")"
   ]
  },
  {
   "cell_type": "markdown",
   "id": "268344fd-da66-4f86-84da-8f36a9a11014",
   "metadata": {},
   "source": [
    "# FAISS 벡터 데이터베이스 저장소 정보 확인"
   ]
  },
  {
   "cell_type": "code",
   "execution_count": 91,
   "id": "b6f932e4-7728-488b-b591-3c898d59f68e",
   "metadata": {},
   "outputs": [
    {
     "name": "stdout",
     "output_type": "stream",
     "text": [
      "FAISS에 저장된 총 벡터 개수: 14\n"
     ]
    }
   ],
   "source": [
    "# 저장된 벡터 개수 확인\n",
    "print(f\"FAISS에 저장된 총 벡터 개수: {index.ntotal}\")"
   ]
  },
  {
   "cell_type": "markdown",
   "id": "3be8cf29-d52f-48b3-8a60-69eb0c53ca8c",
   "metadata": {},
   "source": [
    "# FAISS 인덱스를 저장하는 코드 추가"
   ]
  },
  {
   "cell_type": "code",
   "execution_count": 92,
   "id": "75bca18b-ab9f-4ef2-af7e-6c97f0a25295",
   "metadata": {},
   "outputs": [
    {
     "name": "stdout",
     "output_type": "stream",
     "text": [
      "✅ FAISS 인덱스를 'faiss_index.bin' 파일로 저장 완료!\n"
     ]
    }
   ],
   "source": [
    "import faiss\n",
    "\n",
    "# FAISS 인덱스 저장\n",
    "faiss.write_index(index, \"faiss_index.bin\")\n",
    "print(\"✅ FAISS 인덱스를 'faiss_index.bin' 파일로 저장 완료!\")"
   ]
  }
 ],
 "metadata": {
  "kernelspec": {
   "display_name": "Python (apps)",
   "language": "python",
   "name": "apps"
  },
  "language_info": {
   "codemirror_mode": {
    "name": "ipython",
    "version": 3
   },
   "file_extension": ".py",
   "mimetype": "text/x-python",
   "name": "python",
   "nbconvert_exporter": "python",
   "pygments_lexer": "ipython3",
   "version": "3.10.16"
  }
 },
 "nbformat": 4,
 "nbformat_minor": 5
}
